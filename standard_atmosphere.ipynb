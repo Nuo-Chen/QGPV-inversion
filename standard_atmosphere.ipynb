{
 "cells": [
  {
   "cell_type": "code",
   "execution_count": 4,
   "metadata": {},
   "outputs": [],
   "source": [
    "import numpy as np"
   ]
  },
  {
   "cell_type": "code",
   "execution_count": 1,
   "metadata": {},
   "outputs": [],
   "source": [
    "pb = 1000.\n",
    "pb_half = 975.\n",
    "pt = 100.\n",
    "pt_half = 125."
   ]
  },
  {
   "cell_type": "code",
   "execution_count": 2,
   "metadata": {},
   "outputs": [],
   "source": [
    "hPa = 0.01\n",
    "g = 9.8066         # m/s2\n",
    "kappa = 0.2856219  # poisson exponent = Rd/Cp_d\n",
    "R = 287.05         # Gas constant for dry air at the surface; J/(K.kg)\n",
    "p0 = 1.e5          # Reference pressure for potential temperature; Pa\n",
    "alpha = -1./5.255877  # Density of dry air at 0C and 1000mb?\n",
    "cp = 1004.7        # Specific heat at constant pressure for dry air; J/(K.kg)\n",
    "r_earth = 6341.624  # I assume this is earth radius, but is that 6341 or 6371?\n",
    "gamma = .0065      #The dry adiabatic lapse rate\n",
    "\n",
    "alpha=-1./5.255877\n",
    "beta=-6341.624\n",
    "\n",
    "p00= 1e5 * hPa"
   ]
  },
  {
   "cell_type": "code",
   "execution_count": 20,
   "metadata": {},
   "outputs": [],
   "source": [
    "def cal_zttheta(p):\n",
    "    nlevels = p.size\n",
    "    \n",
    "    Z = np.zeros(nlevels)\n",
    "    T = np.zeros(nlevels)\n",
    "    theta = np.zeros(nlevels)\n",
    "\n",
    "\n",
    "    P_tropopause = 226.32 #hPa\n",
    "    tropopause_idx = np.where(p>=P_tropopause)[0][-1] + 1\n",
    "\n",
    "    # calculate variables below the tropopause\n",
    "    Z[:tropopause_idx] = (288.15/gamma) * ( 1. - (1013.25/p[:tropopause_idx])**alpha)\n",
    "    T[:tropopause_idx] = 288.15 - 0.0065*Z[:tropopause_idx]\n",
    "    theta[:tropopause_idx] = T[:tropopause_idx] * (p00/p[:tropopause_idx])**(R/cp)\n",
    "\n",
    "    # calculate variables above the tropopause\n",
    "    T[tropopause_idx:] = 216.65\n",
    "    Z[tropopause_idx:] = (11.e3 + beta * np.log(p[tropopause_idx:] / 226.32))\n",
    "    theta[:tropopause_idx] = T[:tropopause_idx] * (p00/p[:tropopause_idx])**(R/cp)\n",
    "    \n",
    "    return T, Z, theta"
   ]
  },
  {
   "cell_type": "code",
   "execution_count": 38,
   "metadata": {},
   "outputs": [],
   "source": [
    "def diff(a, i=1):\n",
    "    n = len(a)\n",
    "    return a[i:]-a[:n-i]"
   ]
  },
  {
   "cell_type": "code",
   "execution_count": 5,
   "metadata": {},
   "outputs": [],
   "source": [
    "p = np.linspace(pb,pt,19)\n",
    "p_half = np.linspace(pb_half,pt_half,18)"
   ]
  },
  {
   "cell_type": "code",
   "execution_count": 62,
   "metadata": {},
   "outputs": [
    {
     "name": "stderr",
     "output_type": "stream",
     "text": [
      "<ipython-input-62-a963e28bb212>:17: RuntimeWarning: divide by zero encountered in true_divide\n",
      "  S_half = - R * (T_half / theta_half) * dthetadp / (p_half*100)\n",
      "<ipython-input-62-a963e28bb212>:17: RuntimeWarning: invalid value encountered in multiply\n",
      "  S_half = - R * (T_half / theta_half) * dthetadp / (p_half*100)\n"
     ]
    },
    {
     "data": {
      "text/plain": [
       "array([8.24603243e-07, 8.81627425e-07, 9.73416102e-07, 1.08095290e-06,\n",
       "       1.20814109e-06, 1.36019089e-06, 1.54418791e-06, 1.76997491e-06,\n",
       "       2.05156275e-06, 2.40947005e-06, 2.87476827e-06, 3.49643069e-06,\n",
       "       4.35550610e-06, 5.59454757e-06, 7.48471082e-06,           -inf,\n",
       "                 -inf,            nan])"
      ]
     },
     "execution_count": 62,
     "metadata": {},
     "output_type": "execute_result"
    }
   ],
   "source": [
    "\n",
    "nlevels = p.size\n",
    "nlevels_half = p_half.size\n",
    "\n",
    "T, Z, theta = cal_zttheta(p)\n",
    "T_half, Z_half, theta_half = cal_zttheta(p_half)\n",
    "\n",
    "\n",
    "dthetadp = np.zeros(nlevels_half)\n",
    "\n",
    "dthetadp[0] = (theta[1] - theta[0])/(1.e2*(p[1]-p[0]))\n",
    "dthetadp[1:] = diff(theta,i=2) / (1.e2 * diff(p, i=2))\n",
    "S_half = - R * (T_half / theta_half) * dthetadp / (p_half*100)  # p[:-1]? or p_half"
   ]
  },
  {
   "cell_type": "code",
   "execution_count": null,
   "metadata": {},
   "outputs": [],
   "source": []
  }
 ],
 "metadata": {
  "kernelspec": {
   "display_name": "Python 3",
   "language": "python",
   "name": "python3"
  },
  "language_info": {
   "codemirror_mode": {
    "name": "ipython",
    "version": 3
   },
   "file_extension": ".py",
   "mimetype": "text/x-python",
   "name": "python",
   "nbconvert_exporter": "python",
   "pygments_lexer": "ipython3",
   "version": "3.8.2"
  }
 },
 "nbformat": 4,
 "nbformat_minor": 4
}
